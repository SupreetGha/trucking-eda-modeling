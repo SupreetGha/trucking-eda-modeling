{
 "cells": [
  {
   "cell_type": "code",
   "execution_count": 1,
   "id": "d1aa2f39-61b7-4772-a375-988da69a856a",
   "metadata": {},
   "outputs": [],
   "source": [
    "import pandas as pd\n",
    "import matplotlib.pyplot as plt\n",
    "import numpy as np\n",
    "import seaborn as sns\n",
    "from sklearn.model_selection import RandomizedSearchCV, GridSearchCV\n",
    "from sklearn.preprocessing import StandardScaler\n",
    "from sklearn.model_selection import train_test_split\n",
    "from sklearn.ensemble import RandomForestClassifier\n",
    "from sklearn.tree import DecisionTreeClassifier"
   ]
  },
  {
   "cell_type": "code",
   "execution_count": 2,
   "id": "63b96f3d-b0d6-4557-b36f-27864cd32fbe",
   "metadata": {},
   "outputs": [
    {
     "data": {
      "text/plain": [
       "Index(['ID', 'OBS_DATE', 'TRUCK_D11', 'VMT', 'VMT_D11', 'TSI_Freight',\n",
       "       'TSI_Freight_C', 'IND_PRO', 'MANUF', 'INV_TO_SALES', 'IDX_TRUCK_D11',\n",
       "       'PETROLEUM', 'IDX_PETROLEUM_D11', 'NATURAL_GAS', 'IDX_RAIL_PM',\n",
       "       'IDX_WATERBORNE_D11', 'date_time'],\n",
       "      dtype='object')"
      ]
     },
     "execution_count": 2,
     "metadata": {},
     "output_type": "execute_result"
    }
   ],
   "source": [
    "df = pd.read_csv('Trucking_Data_Cleaned.csv')\n",
    "df.columns"
   ]
  },
  {
   "cell_type": "code",
   "execution_count": 8,
   "id": "a1effe8c-d2c8-4d4c-b550-6b561677e229",
   "metadata": {},
   "outputs": [
    {
     "data": {
      "text/plain": [
       "Index(['TRUCK_D11', 'VMT', 'VMT_D11', 'TSI_Freight', 'TSI_Freight_C',\n",
       "       'IND_PRO', 'MANUF', 'INV_TO_SALES', 'IDX_TRUCK_D11', 'PETROLEUM',\n",
       "       'IDX_PETROLEUM_D11', 'NATURAL_GAS', 'IDX_RAIL_PM',\n",
       "       'IDX_WATERBORNE_D11'],\n",
       "      dtype='object')"
      ]
     },
     "execution_count": 8,
     "metadata": {},
     "output_type": "execute_result"
    }
   ],
   "source": [
    "df.columns"
   ]
  },
  {
   "cell_type": "code",
   "execution_count": 11,
   "id": "18692a19-0af3-4cf1-adbc-8bdde4177f31",
   "metadata": {},
   "outputs": [],
   "source": [
    "X = df.drop(['TRUCK_D11'], axis=1)\n",
    "y = df['TRUCK_D11']"
   ]
  },
  {
   "cell_type": "code",
   "execution_count": 14,
   "id": "17ace1c5-029c-455a-9cfc-3d50da842d2d",
   "metadata": {},
   "outputs": [
    {
     "data": {
      "text/plain": [
       "((236, 13), (60, 13), (236,), (60,))"
      ]
     },
     "execution_count": 14,
     "metadata": {},
     "output_type": "execute_result"
    }
   ],
   "source": [
    "X_train, X_test, y_train, y_test = train_test_split(X, y, test_size=0.2, random_state=0)\n",
    "X_train.shape, X_test.shape, y_train.shape, y_test.shape"
   ]
  },
  {
   "cell_type": "code",
   "execution_count": 15,
   "id": "b3765500-5681-4adc-a855-29127e1c78d2",
   "metadata": {},
   "outputs": [
    {
     "data": {
      "text/html": [
       "<div>\n",
       "<style scoped>\n",
       "    .dataframe tbody tr th:only-of-type {\n",
       "        vertical-align: middle;\n",
       "    }\n",
       "\n",
       "    .dataframe tbody tr th {\n",
       "        vertical-align: top;\n",
       "    }\n",
       "\n",
       "    .dataframe thead th {\n",
       "        text-align: right;\n",
       "    }\n",
       "</style>\n",
       "<table border=\"1\" class=\"dataframe\">\n",
       "  <thead>\n",
       "    <tr style=\"text-align: right;\">\n",
       "      <th></th>\n",
       "      <th>VMT</th>\n",
       "      <th>VMT_D11</th>\n",
       "      <th>TSI_Freight</th>\n",
       "      <th>TSI_Freight_C</th>\n",
       "      <th>IND_PRO</th>\n",
       "      <th>MANUF</th>\n",
       "      <th>INV_TO_SALES</th>\n",
       "      <th>IDX_TRUCK_D11</th>\n",
       "      <th>PETROLEUM</th>\n",
       "      <th>IDX_PETROLEUM_D11</th>\n",
       "      <th>NATURAL_GAS</th>\n",
       "      <th>IDX_RAIL_PM</th>\n",
       "      <th>IDX_WATERBORNE_D11</th>\n",
       "    </tr>\n",
       "  </thead>\n",
       "  <tbody>\n",
       "    <tr>\n",
       "      <th>VMT</th>\n",
       "      <td>1.000000</td>\n",
       "      <td>0.648887</td>\n",
       "      <td>0.498840</td>\n",
       "      <td>0.120337</td>\n",
       "      <td>0.490861</td>\n",
       "      <td>0.475871</td>\n",
       "      <td>-0.344059</td>\n",
       "      <td>0.476965</td>\n",
       "      <td>0.535475</td>\n",
       "      <td>0.453446</td>\n",
       "      <td>-0.152127</td>\n",
       "      <td>0.176895</td>\n",
       "      <td>0.042047</td>\n",
       "    </tr>\n",
       "    <tr>\n",
       "      <th>VMT_D11</th>\n",
       "      <td>0.648887</td>\n",
       "      <td>1.000000</td>\n",
       "      <td>0.740505</td>\n",
       "      <td>0.174561</td>\n",
       "      <td>0.749588</td>\n",
       "      <td>0.720489</td>\n",
       "      <td>-0.491917</td>\n",
       "      <td>0.712683</td>\n",
       "      <td>0.653812</td>\n",
       "      <td>0.664546</td>\n",
       "      <td>0.420811</td>\n",
       "      <td>0.323864</td>\n",
       "      <td>0.054715</td>\n",
       "    </tr>\n",
       "    <tr>\n",
       "      <th>TSI_Freight</th>\n",
       "      <td>0.498840</td>\n",
       "      <td>0.740505</td>\n",
       "      <td>1.000000</td>\n",
       "      <td>0.022426</td>\n",
       "      <td>0.777284</td>\n",
       "      <td>0.826278</td>\n",
       "      <td>-0.641413</td>\n",
       "      <td>0.991988</td>\n",
       "      <td>0.865592</td>\n",
       "      <td>0.878048</td>\n",
       "      <td>0.578388</td>\n",
       "      <td>-0.128252</td>\n",
       "      <td>-0.082610</td>\n",
       "    </tr>\n",
       "    <tr>\n",
       "      <th>TSI_Freight_C</th>\n",
       "      <td>0.120337</td>\n",
       "      <td>0.174561</td>\n",
       "      <td>0.022426</td>\n",
       "      <td>1.000000</td>\n",
       "      <td>0.017760</td>\n",
       "      <td>0.006573</td>\n",
       "      <td>-0.116306</td>\n",
       "      <td>0.014128</td>\n",
       "      <td>-0.035113</td>\n",
       "      <td>-0.036761</td>\n",
       "      <td>-0.027857</td>\n",
       "      <td>0.104311</td>\n",
       "      <td>0.149444</td>\n",
       "    </tr>\n",
       "    <tr>\n",
       "      <th>IND_PRO</th>\n",
       "      <td>0.490861</td>\n",
       "      <td>0.749588</td>\n",
       "      <td>0.777284</td>\n",
       "      <td>0.017760</td>\n",
       "      <td>1.000000</td>\n",
       "      <td>0.832981</td>\n",
       "      <td>-0.417591</td>\n",
       "      <td>0.729585</td>\n",
       "      <td>0.556503</td>\n",
       "      <td>0.560537</td>\n",
       "      <td>0.415889</td>\n",
       "      <td>0.244535</td>\n",
       "      <td>0.154816</td>\n",
       "    </tr>\n",
       "    <tr>\n",
       "      <th>MANUF</th>\n",
       "      <td>0.475871</td>\n",
       "      <td>0.720489</td>\n",
       "      <td>0.826278</td>\n",
       "      <td>0.006573</td>\n",
       "      <td>0.832981</td>\n",
       "      <td>1.000000</td>\n",
       "      <td>-0.742052</td>\n",
       "      <td>0.806001</td>\n",
       "      <td>0.628419</td>\n",
       "      <td>0.637230</td>\n",
       "      <td>0.506459</td>\n",
       "      <td>0.168979</td>\n",
       "      <td>-0.013377</td>\n",
       "    </tr>\n",
       "    <tr>\n",
       "      <th>INV_TO_SALES</th>\n",
       "      <td>-0.344059</td>\n",
       "      <td>-0.491917</td>\n",
       "      <td>-0.641413</td>\n",
       "      <td>-0.116306</td>\n",
       "      <td>-0.417591</td>\n",
       "      <td>-0.742052</td>\n",
       "      <td>1.000000</td>\n",
       "      <td>-0.639739</td>\n",
       "      <td>-0.493942</td>\n",
       "      <td>-0.499615</td>\n",
       "      <td>-0.398549</td>\n",
       "      <td>0.238310</td>\n",
       "      <td>0.274152</td>\n",
       "    </tr>\n",
       "    <tr>\n",
       "      <th>IDX_TRUCK_D11</th>\n",
       "      <td>0.476965</td>\n",
       "      <td>0.712683</td>\n",
       "      <td>0.991988</td>\n",
       "      <td>0.014128</td>\n",
       "      <td>0.729585</td>\n",
       "      <td>0.806001</td>\n",
       "      <td>-0.639739</td>\n",
       "      <td>1.000000</td>\n",
       "      <td>0.859022</td>\n",
       "      <td>0.872194</td>\n",
       "      <td>0.586614</td>\n",
       "      <td>-0.150076</td>\n",
       "      <td>-0.147883</td>\n",
       "    </tr>\n",
       "    <tr>\n",
       "      <th>PETROLEUM</th>\n",
       "      <td>0.535475</td>\n",
       "      <td>0.653812</td>\n",
       "      <td>0.865592</td>\n",
       "      <td>-0.035113</td>\n",
       "      <td>0.556503</td>\n",
       "      <td>0.628419</td>\n",
       "      <td>-0.493942</td>\n",
       "      <td>0.859022</td>\n",
       "      <td>1.000000</td>\n",
       "      <td>0.985298</td>\n",
       "      <td>0.504529</td>\n",
       "      <td>-0.200117</td>\n",
       "      <td>-0.083161</td>\n",
       "    </tr>\n",
       "    <tr>\n",
       "      <th>IDX_PETROLEUM_D11</th>\n",
       "      <td>0.453446</td>\n",
       "      <td>0.664546</td>\n",
       "      <td>0.878048</td>\n",
       "      <td>-0.036761</td>\n",
       "      <td>0.560537</td>\n",
       "      <td>0.637230</td>\n",
       "      <td>-0.499615</td>\n",
       "      <td>0.872194</td>\n",
       "      <td>0.985298</td>\n",
       "      <td>1.000000</td>\n",
       "      <td>0.547104</td>\n",
       "      <td>-0.195783</td>\n",
       "      <td>-0.081532</td>\n",
       "    </tr>\n",
       "    <tr>\n",
       "      <th>NATURAL_GAS</th>\n",
       "      <td>-0.152127</td>\n",
       "      <td>0.420811</td>\n",
       "      <td>0.578388</td>\n",
       "      <td>-0.027857</td>\n",
       "      <td>0.415889</td>\n",
       "      <td>0.506459</td>\n",
       "      <td>-0.398549</td>\n",
       "      <td>0.586614</td>\n",
       "      <td>0.504529</td>\n",
       "      <td>0.547104</td>\n",
       "      <td>1.000000</td>\n",
       "      <td>-0.045875</td>\n",
       "      <td>-0.075277</td>\n",
       "    </tr>\n",
       "    <tr>\n",
       "      <th>IDX_RAIL_PM</th>\n",
       "      <td>0.176895</td>\n",
       "      <td>0.323864</td>\n",
       "      <td>-0.128252</td>\n",
       "      <td>0.104311</td>\n",
       "      <td>0.244535</td>\n",
       "      <td>0.168979</td>\n",
       "      <td>0.238310</td>\n",
       "      <td>-0.150076</td>\n",
       "      <td>-0.200117</td>\n",
       "      <td>-0.195783</td>\n",
       "      <td>-0.045875</td>\n",
       "      <td>1.000000</td>\n",
       "      <td>0.498118</td>\n",
       "    </tr>\n",
       "    <tr>\n",
       "      <th>IDX_WATERBORNE_D11</th>\n",
       "      <td>0.042047</td>\n",
       "      <td>0.054715</td>\n",
       "      <td>-0.082610</td>\n",
       "      <td>0.149444</td>\n",
       "      <td>0.154816</td>\n",
       "      <td>-0.013377</td>\n",
       "      <td>0.274152</td>\n",
       "      <td>-0.147883</td>\n",
       "      <td>-0.083161</td>\n",
       "      <td>-0.081532</td>\n",
       "      <td>-0.075277</td>\n",
       "      <td>0.498118</td>\n",
       "      <td>1.000000</td>\n",
       "    </tr>\n",
       "  </tbody>\n",
       "</table>\n",
       "</div>"
      ],
      "text/plain": [
       "                         VMT   VMT_D11  TSI_Freight  TSI_Freight_C   IND_PRO  \\\n",
       "VMT                 1.000000  0.648887     0.498840       0.120337  0.490861   \n",
       "VMT_D11             0.648887  1.000000     0.740505       0.174561  0.749588   \n",
       "TSI_Freight         0.498840  0.740505     1.000000       0.022426  0.777284   \n",
       "TSI_Freight_C       0.120337  0.174561     0.022426       1.000000  0.017760   \n",
       "IND_PRO             0.490861  0.749588     0.777284       0.017760  1.000000   \n",
       "MANUF               0.475871  0.720489     0.826278       0.006573  0.832981   \n",
       "INV_TO_SALES       -0.344059 -0.491917    -0.641413      -0.116306 -0.417591   \n",
       "IDX_TRUCK_D11       0.476965  0.712683     0.991988       0.014128  0.729585   \n",
       "PETROLEUM           0.535475  0.653812     0.865592      -0.035113  0.556503   \n",
       "IDX_PETROLEUM_D11   0.453446  0.664546     0.878048      -0.036761  0.560537   \n",
       "NATURAL_GAS        -0.152127  0.420811     0.578388      -0.027857  0.415889   \n",
       "IDX_RAIL_PM         0.176895  0.323864    -0.128252       0.104311  0.244535   \n",
       "IDX_WATERBORNE_D11  0.042047  0.054715    -0.082610       0.149444  0.154816   \n",
       "\n",
       "                       MANUF  INV_TO_SALES  IDX_TRUCK_D11  PETROLEUM  \\\n",
       "VMT                 0.475871     -0.344059       0.476965   0.535475   \n",
       "VMT_D11             0.720489     -0.491917       0.712683   0.653812   \n",
       "TSI_Freight         0.826278     -0.641413       0.991988   0.865592   \n",
       "TSI_Freight_C       0.006573     -0.116306       0.014128  -0.035113   \n",
       "IND_PRO             0.832981     -0.417591       0.729585   0.556503   \n",
       "MANUF               1.000000     -0.742052       0.806001   0.628419   \n",
       "INV_TO_SALES       -0.742052      1.000000      -0.639739  -0.493942   \n",
       "IDX_TRUCK_D11       0.806001     -0.639739       1.000000   0.859022   \n",
       "PETROLEUM           0.628419     -0.493942       0.859022   1.000000   \n",
       "IDX_PETROLEUM_D11   0.637230     -0.499615       0.872194   0.985298   \n",
       "NATURAL_GAS         0.506459     -0.398549       0.586614   0.504529   \n",
       "IDX_RAIL_PM         0.168979      0.238310      -0.150076  -0.200117   \n",
       "IDX_WATERBORNE_D11 -0.013377      0.274152      -0.147883  -0.083161   \n",
       "\n",
       "                    IDX_PETROLEUM_D11  NATURAL_GAS  IDX_RAIL_PM  \\\n",
       "VMT                          0.453446    -0.152127     0.176895   \n",
       "VMT_D11                      0.664546     0.420811     0.323864   \n",
       "TSI_Freight                  0.878048     0.578388    -0.128252   \n",
       "TSI_Freight_C               -0.036761    -0.027857     0.104311   \n",
       "IND_PRO                      0.560537     0.415889     0.244535   \n",
       "MANUF                        0.637230     0.506459     0.168979   \n",
       "INV_TO_SALES                -0.499615    -0.398549     0.238310   \n",
       "IDX_TRUCK_D11                0.872194     0.586614    -0.150076   \n",
       "PETROLEUM                    0.985298     0.504529    -0.200117   \n",
       "IDX_PETROLEUM_D11            1.000000     0.547104    -0.195783   \n",
       "NATURAL_GAS                  0.547104     1.000000    -0.045875   \n",
       "IDX_RAIL_PM                 -0.195783    -0.045875     1.000000   \n",
       "IDX_WATERBORNE_D11          -0.081532    -0.075277     0.498118   \n",
       "\n",
       "                    IDX_WATERBORNE_D11  \n",
       "VMT                           0.042047  \n",
       "VMT_D11                       0.054715  \n",
       "TSI_Freight                  -0.082610  \n",
       "TSI_Freight_C                 0.149444  \n",
       "IND_PRO                       0.154816  \n",
       "MANUF                        -0.013377  \n",
       "INV_TO_SALES                  0.274152  \n",
       "IDX_TRUCK_D11                -0.147883  \n",
       "PETROLEUM                    -0.083161  \n",
       "IDX_PETROLEUM_D11            -0.081532  \n",
       "NATURAL_GAS                  -0.075277  \n",
       "IDX_RAIL_PM                   0.498118  \n",
       "IDX_WATERBORNE_D11            1.000000  "
      ]
     },
     "execution_count": 15,
     "metadata": {},
     "output_type": "execute_result"
    }
   ],
   "source": [
    "X_train.corr()"
   ]
  },
  {
   "cell_type": "code",
   "execution_count": 16,
   "id": "7cbbc87d-2d76-475f-87a7-bdd889a6537d",
   "metadata": {},
   "outputs": [
    {
     "data": {
      "image/png": "[encoded data removed]",
      "text/plain": [
       "<Figure size 1200x1000 with 2 Axes>"
      ]
     },
     "metadata": {},
     "output_type": "display_data"
    }
   ],
   "source": [
    "plt.figure(figsize=(12,10))\n",
    "cor = X_train.corr()\n",
    "sns.heatmap(cor, annot=True, cmap=plt.cm.CMRmap_r)\n",
    "plt.show()"
   ]
  },
  {
   "cell_type": "code",
   "execution_count": 17,
   "id": "83b16392-b22d-4aff-a142-7d8ad50e8f01",
   "metadata": {},
   "outputs": [],
   "source": [
    "def correlation(dataset, threshold):\n",
    "    col_corr = set()\n",
    "    corr_matrix = dataset.corr()\n",
    "    for i in range(len(corr_matrix.columns)):\n",
    "        for j in range(i):\n",
    "            if abs(corr_matrix.iloc[i,j]) > threshold:\n",
    "                colname = corr_matrix.columns[i]\n",
    "                col_corr.add(colname)\n",
    "    return col_corr"
   ]
  },
  {
   "cell_type": "markdown",
   "id": "13d195f9-8f8b-426a-bc5f-0828ac6fdd57",
   "metadata": {},
   "source": [
    "### Droppping Features with Correlations > 0.70"
   ]
  },
  {
   "cell_type": "code",
   "execution_count": 31,
   "id": "597f8698-1c54-4ba9-867b-2191b97dc894",
   "metadata": {},
   "outputs": [
    {
     "data": {
      "text/plain": [
       "{'TSI_Freight'}"
      ]
     },
     "execution_count": 31,
     "metadata": {},
     "output_type": "execute_result"
    }
   ],
   "source": [
    "corr_features = correlation(X_train, 0.70)\n",
    "corr_features"
   ]
  },
  {
   "cell_type": "code",
   "execution_count": 32,
   "id": "cc35bd55-70e8-49b8-ac7e-52ed0a135579",
   "metadata": {},
   "outputs": [
    {
     "data": {
      "text/plain": [
       "((236, 7), (60, 7))"
      ]
     },
     "execution_count": 32,
     "metadata": {},
     "output_type": "execute_result"
    }
   ],
   "source": [
    "X_train.drop(corr_features, axis=1, inplace=True)\n",
    "X_test.drop(corr_features, axis=1, inplace=True)\n",
    "X_train.shape, X_test.shape"
   ]
  },
  {
   "cell_type": "code",
   "execution_count": 33,
   "id": "0a6531a3-1f77-431f-834c-d7c55444e70d",
   "metadata": {},
   "outputs": [],
   "source": [
    "def scaler_standard(X_train, X_test):\n",
    "    scaler = StandardScaler()\n",
    "    X_train_scaled = scaler.fit_transform(X_train)\n",
    "    X_test_scaled = scaler.transform(X_test)\n",
    "    return X_train_scaled, X_test_scaled"
   ]
  },
  {
   "cell_type": "code",
   "execution_count": 34,
   "id": "df38a9b5-13b6-4d01-ab27-a78624027631",
   "metadata": {},
   "outputs": [],
   "source": [
    "X_train_scaled, X_test_scaled = scaler_standard(X_train, X_test)"
   ]
  },
  {
   "cell_type": "markdown",
   "id": "6abf1afb-86c7-4852-9f14-de650328b96e",
   "metadata": {},
   "source": [
    "## Modeling"
   ]
  },
  {
   "cell_type": "markdown",
   "id": "7b24c504-d836-4977-be0e-bd0a11c37d6e",
   "metadata": {},
   "source": [
    "### Linear Regression"
   ]
  },
  {
   "cell_type": "code",
   "execution_count": 35,
   "id": "c98d7e65-9b60-48e2-bad2-e9fb47b9892a",
   "metadata": {},
   "outputs": [
    {
     "name": "stdout",
     "output_type": "stream",
     "text": [
      "Linear Regression\n",
      "R2 Score Value 0.8256\n",
      "MAE value: 5.347342\n"
     ]
    }
   ],
   "source": [
    "from sklearn.linear_model import LinearRegression\n",
    "from sklearn.metrics import mean_absolute_error, r2_score\n",
    "\n",
    "lreg = LinearRegression()\n",
    "lreg.fit(X_train_scaled, y_train)\n",
    "lreg_pred = lreg.predict(X_test_scaled)\n",
    "mae = mean_absolute_error(y_test, lreg_pred)\n",
    "r2 = r2_score(y_test, lreg_pred)\n",
    "\n",
    "print('Linear Regression')\n",
    "print('R2 Score Value {:.4f}'.format(r2))\n",
    "print('MAE value: {:4f}'.format(mae))"
   ]
  },
  {
   "cell_type": "markdown",
   "id": "9933ca61-dbc7-4aeb-b001-e79a3cfa6e5d",
   "metadata": {},
   "source": [
    "### Lasso Regression"
   ]
  },
  {
   "cell_type": "code",
   "execution_count": 36,
   "id": "9c9332d6-46bd-4cce-b577-7a05b767a95f",
   "metadata": {},
   "outputs": [
    {
     "name": "stdout",
     "output_type": "stream",
     "text": [
      "Lasso Regression\n",
      "R2 Score Value 0.8007\n",
      "MAE value: 5.807929\n"
     ]
    }
   ],
   "source": [
    "from sklearn.linear_model import Lasso\n",
    "from sklearn.metrics import mean_absolute_error, r2_score\n",
    "\n",
    "lasso = Lasso()\n",
    "lasso.fit(X_train_scaled, y_train)\n",
    "lasso_pred = lasso.predict(X_test_scaled)\n",
    "mae = mean_absolute_error(y_test, lasso_pred)\n",
    "r2 = r2_score(y_test, lasso_pred)\n",
    "\n",
    "print('Lasso Regression')\n",
    "print('R2 Score Value {:.4f}'.format(r2))\n",
    "print('MAE value: {:4f}'.format(mae))"
   ]
  },
  {
   "cell_type": "markdown",
   "id": "064dc976-2c45-45b4-8f2d-4dd76750c1ab",
   "metadata": {},
   "source": [
    "### Ridge Regression"
   ]
  },
  {
   "cell_type": "code",
   "execution_count": 37,
   "id": "5dc9c492-ab96-4ccd-b89c-b2c796d209d8",
   "metadata": {},
   "outputs": [
    {
     "name": "stdout",
     "output_type": "stream",
     "text": [
      "Ridge Regression\n",
      "R2 Score Value 0.8251\n",
      "MAE value: 5.344740\n"
     ]
    }
   ],
   "source": [
    "from sklearn.linear_model import Ridge\n",
    "from sklearn.metrics import mean_absolute_error, r2_score\n",
    "ridge = Ridge()\n",
    "ridge.fit(X_train_scaled, y_train)\n",
    "ridge_pred = ridge.predict(X_test_scaled)\n",
    "mae = mean_absolute_error(y_test, ridge_pred)\n",
    "r2 = r2_score(y_test, ridge_pred)\n",
    "\n",
    "print('Ridge Regression')\n",
    "print('R2 Score Value {:.4f}'.format(r2))\n",
    "print('MAE value: {:4f}'.format(mae))\n"
   ]
  },
  {
   "cell_type": "markdown",
   "id": "cd5adaf5-a192-40f1-b04f-c2de637f4982",
   "metadata": {},
   "source": [
    "### Support Vector Regression"
   ]
  },
  {
   "cell_type": "code",
   "execution_count": 38,
   "id": "e6c37803-d57e-42f7-ab53-a6da4e6dba24",
   "metadata": {},
   "outputs": [
    {
     "name": "stdout",
     "output_type": "stream",
     "text": [
      "Support Vector Regression\n",
      "R2 Score Value 0.8152\n",
      "MAE value: 5.326264\n"
     ]
    }
   ],
   "source": [
    "from sklearn.svm import SVR\n",
    "from sklearn.metrics import mean_absolute_error, r2_score\n",
    "\n",
    "svr = SVR()\n",
    "svr.fit(X_train_scaled, y_train)\n",
    "svr_pred = svr.predict(X_test_scaled)\n",
    "mae = mean_absolute_error(y_test, svr_pred)\n",
    "r2 = r2_score(y_test, svr_pred)\n",
    "\n",
    "print('Support Vector Regression')\n",
    "print('R2 Score Value {:.4f}'.format(r2))\n",
    "print('MAE value: {:4f}'.format(mae))"
   ]
  },
  {
   "cell_type": "markdown",
   "id": "b631471e-b5ed-436a-949e-e980c3ec3560",
   "metadata": {},
   "source": [
    "### Random Forest Regressor"
   ]
  },
  {
   "cell_type": "code",
   "execution_count": 39,
   "id": "59fb59e2-cd5f-4634-b575-87f234bf6fd9",
   "metadata": {},
   "outputs": [
    {
     "name": "stdout",
     "output_type": "stream",
     "text": [
      "Random Forrest Regressor\n",
      "R2 Score Value 0.9717\n",
      "MAE value: 1.828417\n"
     ]
    }
   ],
   "source": [
    "from sklearn.ensemble import RandomForestRegressor\n",
    "from sklearn.metrics import mean_absolute_error as MAE, r2_score\n",
    "\n",
    "rf = RandomForestRegressor()\n",
    "rf.fit(X_train_scaled, y_train)\n",
    "rf_pred = rf.predict(X_test_scaled)\n",
    "mae = MAE(y_test, rf_pred)\n",
    "r2 = r2_score(y_test, rf_pred)\n",
    "\n",
    "print('Random Forrest Regressor')\n",
    "print('R2 Score Value {:.4f}'.format(r2))\n",
    "print('MAE value: {:4f}'.format(mae))"
   ]
  },
  {
   "cell_type": "markdown",
   "id": "4b0ad6f1-9357-4c2f-b573-dac646fbda6b",
   "metadata": {},
   "source": [
    "### K-Neighbors Regressor"
   ]
  },
  {
   "cell_type": "code",
   "execution_count": 40,
   "id": "aad2bbf8-4698-408c-843e-2108162ba19a",
   "metadata": {},
   "outputs": [
    {
     "name": "stdout",
     "output_type": "stream",
     "text": [
      "K-Neighbors Regressor\n",
      "R2 Score Value 0.9108\n",
      "MAE value: 3.281667\n"
     ]
    }
   ],
   "source": [
    "from sklearn.neighbors import KNeighborsRegressor\n",
    "from sklearn.metrics import mean_absolute_error as MAE, r2_score\n",
    "\n",
    "knn = KNeighborsRegressor()\n",
    "knn.fit(X_train_scaled, y_train)\n",
    "knn_pred = knn.predict(X_test_scaled)\n",
    "mae = MAE(y_test, knn_pred)\n",
    "r2 = r2_score(y_test, knn_pred)\n",
    "\n",
    "print('K-Neighbors Regressor')\n",
    "print('R2 Score Value {:.4f}'.format(r2))\n",
    "print('MAE value: {:4f}'.format(mae))\n"
   ]
  },
  {
   "cell_type": "markdown",
   "id": "73381ca9-b963-4c32-885f-d5d6f04b8255",
   "metadata": {},
   "source": [
    "## Tuning"
   ]
  },
  {
   "cell_type": "markdown",
   "id": "7d9c396d-6291-4101-a08b-4db90986f93d",
   "metadata": {},
   "source": [
    "### Tuned Random Forest"
   ]
  },
  {
   "cell_type": "code",
   "execution_count": 41,
   "id": "bd4babe3-56c1-4a0e-bf94-9c63ae385c8e",
   "metadata": {},
   "outputs": [
    {
     "name": "stdout",
     "output_type": "stream",
     "text": [
      "Fitting 10 folds for each of 10 candidates, totalling 100 fits\n",
      "Random Forest Tuned\n",
      "R2 Score Value 0.9703\n",
      "MAE value: 2.077000\n"
     ]
    }
   ],
   "source": [
    "param_grid = [{'bootstrap': [True, False], \n",
    "               'max_depth':[10,20,30,40,50,60,70,80,90, 100, 110, 120], \n",
    "               'min_samples_leaf':[1,3,4], \n",
    "               'min_samples_split':[2,6,10], 'n_estimators':[5,20,50,100]}]\n",
    "f_reg = RandomForestRegressor()\n",
    "Random_rf = RandomizedSearchCV(f_reg, param_grid, cv=10, verbose=2, n_jobs=-1)\n",
    "Random_rf.fit(X_train_scaled, y_train)\n",
    "best_random_grid = Random_rf.best_estimator_\n",
    "bestrf_pred = best_random_grid.predict(X_test_scaled)\n",
    "mae = MAE(y_test, bestrf_pred)\n",
    "r2 = r2_score(y_test, bestrf_pred)\n",
    "print('Random Forest Tuned')\n",
    "print('R2 Score Value {:.4f}'.format(r2))\n",
    "print('MAE value: {:4f}'.format(mae))"
   ]
  },
  {
   "cell_type": "markdown",
   "id": "a8ad8a32-c5c5-4153-92d4-a01654607ebd",
   "metadata": {},
   "source": [
    "### Tuned Ridge Regression"
   ]
  },
  {
   "cell_type": "code",
   "execution_count": 42,
   "id": "373eda14-0640-49b5-baa7-f6d14ded779c",
   "metadata": {},
   "outputs": [
    {
     "name": "stdout",
     "output_type": "stream",
     "text": [
      "Ridge Tuned\n",
      "R2 Score Value 0.8257\n",
      "MAE value: 5.346916\n"
     ]
    }
   ],
   "source": [
    "from sklearn.exceptions import FitFailedWarning, ConvergenceWarning\n",
    "import warnings\n",
    "warnings.filterwarnings(action='ignore')\n",
    "ridge_params = [{'alpha': (np.logspace(-11,11,100)),\n",
    "                 'solver':['auto', 'svd', 'cholesky','lsqr','sparse_cg','sag','saga','lbfgs']}]\n",
    "ridge = Ridge()\n",
    "random_ridge = RandomizedSearchCV(ridge, ridge_params, cv=10, n_jobs=-1)\n",
    "random_ridge.fit(X_train_scaled, y_train)\n",
    "best_ridge = random_ridge.best_estimator_\n",
    "rbest_pred = best_ridge.predict(X_test_scaled)\n",
    "mae = MAE(y_test, rbest_pred)\n",
    "r2 = r2_score(y_test, rbest_pred)\n",
    "\n",
    "print('Ridge Tuned')\n",
    "print('R2 Score Value {:.4f}'.format(r2))\n",
    "print('MAE value: {:4f}'.format(mae))\n"
   ]
  },
  {
   "cell_type": "markdown",
   "id": "0674053c-dd73-463f-b633-bba1bb8855a4",
   "metadata": {},
   "source": [
    "### Plotting Features Importance"
   ]
  },
  {
   "cell_type": "code",
   "execution_count": 43,
   "id": "79454aab-c31c-4b6a-b802-585975b36d46",
   "metadata": {},
   "outputs": [
    {
     "data": {
      "text/plain": [
       "Text(0, 0.5, 'Features')"
      ]
     },
     "execution_count": 43,
     "metadata": {},
     "output_type": "execute_result"
    },
    {
     "data": {
      "image/png": "[encoded data removed]",
      "text/plain": [
       "<Figure size 1200x600 with 1 Axes>"
      ]
     },
     "metadata": {},
     "output_type": "display_data"
    }
   ],
   "source": [
    "feature_importances = Random_rf.best_estimator_.feature_importances_\n",
    "importance_df = pd.DataFrame({'feature': X_train.columns, 'importance':feature_importances}).sort_values('importance', ascending=False)\n",
    "plt.figure(figsize=(12,6))\n",
    "sns.set_style('ticks')\n",
    "ax = sns.barplot(data=importance_df, x='importance', y='feature', ec='black')\n",
    "ax.set_title('Top 10 Important Features', weight='bold', fontsize=15)\n",
    "ax.set_xlabel('Feature Importance %', weight='bold')\n",
    "ax.set_ylabel('Features', weight='bold')"
   ]
  },
  {
   "cell_type": "markdown",
   "id": "3453e52a-81f3-4395-9844-29bf057737ec",
   "metadata": {},
   "source": [
    "### Dropping Features with Low Importance"
   ]
  },
  {
   "cell_type": "code",
   "execution_count": 44,
   "id": "0b4b2084-f85b-408b-9ed0-99d7f068ac1f",
   "metadata": {},
   "outputs": [],
   "source": [
    "Xtrain_new = X_train.drop(['NATURAL_GAS', 'TSI_Freight_C', 'VMT'], axis=1)\n",
    "Xtest_new = X_test.drop(['NATURAL_GAS', 'TSI_Freight_C', 'VMT'], axis=1)"
   ]
  },
  {
   "cell_type": "code",
   "execution_count": 45,
   "id": "d0abaad3-5e9f-4a70-bb46-281d02b8dbd3",
   "metadata": {},
   "outputs": [
    {
     "data": {
      "text/plain": [
       "Index(['VMT_D11', 'INV_TO_SALES', 'IDX_RAIL_PM', 'IDX_WATERBORNE_D11'], dtype='object')"
      ]
     },
     "execution_count": 45,
     "metadata": {},
     "output_type": "execute_result"
    }
   ],
   "source": [
    "Xtrain_new.columns"
   ]
  },
  {
   "cell_type": "code",
   "execution_count": 46,
   "id": "0adb15d2-9054-4bbd-b91f-0b8eaea61426",
   "metadata": {},
   "outputs": [],
   "source": [
    "Xtrain_new_scaled, Xtest_new_scaled = scaler_standard(Xtrain_new, Xtest_new)"
   ]
  },
  {
   "cell_type": "code",
   "execution_count": 47,
   "id": "b5550d3a-d34c-499b-9a63-37eb41fefbc5",
   "metadata": {},
   "outputs": [
    {
     "name": "stdout",
     "output_type": "stream",
     "text": [
      "Random Forest Tuned + Refined Data\n",
      "R2 Score Value 0.9628\n",
      "MAE value: 1.855333\n"
     ]
    }
   ],
   "source": [
    "best_random_grid.fit(Xtrain_new_scaled, y_train)\n",
    "bestrf_pred = best_random_grid.predict(Xtest_new_scaled)\n",
    "mae = MAE(y_test, bestrf_pred)\n",
    "r2 = r2_score(y_test, bestrf_pred)\n",
    "\n",
    "print('Random Forest Tuned + Refined Data')\n",
    "print('R2 Score Value {:.4f}'.format(r2))\n",
    "print('MAE value: {:4f}'.format(mae))\n"
   ]
  },
  {
   "cell_type": "code",
   "execution_count": 50,
   "id": "7169b52d-1254-4a57-9198-ccefe9f76f4c",
   "metadata": {},
   "outputs": [
    {
     "name": "stdout",
     "output_type": "stream",
     "text": [
      "Random Forrest Regressor\n",
      "R2 Score Value 0.9745\n",
      "MAE value: 1.817083\n"
     ]
    }
   ],
   "source": [
    "rf1 = RandomForestRegressor()\n",
    "rf1.fit(Xtrain_new_scaled, y_train)\n",
    "rf1_pred = rf1.predict(Xtest_new_scaled)\n",
    "mae = MAE(y_test, rf1_pred)\n",
    "r2 = r2_score(y_test, rf1_pred)\n",
    "\n",
    "print('Random Forrest Regressor')\n",
    "print('R2 Score Value {:.4f}'.format(r2))\n",
    "print('MAE value: {:4f}'.format(mae))"
   ]
  },
  {
   "cell_type": "markdown",
   "id": "506680a2-5aad-4e7a-b4f7-154e46c10102",
   "metadata": {},
   "source": [
    "# Summary"
   ]
  },
  {
   "cell_type": "markdown",
   "id": "e379ce1e-aa6f-4c9f-96fa-bc60d0a9f020",
   "metadata": {},
   "source": [
    "Generated a RandomForestRegressor model for the feature TRUCK_D11 (trucking activity in the D11 region) and achieved a R2 score of 0.9745 and an MAE value of 1.81.  "
   ]
  },
  {
   "cell_type": "code",
   "execution_count": null,
   "id": "0f536911-0ff8-4645-a821-cf5523cbd5fb",
   "metadata": {},
   "outputs": [],
   "source": []
  }
 ],
 "metadata": {
  "kernelspec": {
   "display_name": "Python 3 (ipykernel)",
   "language": "python",
   "name": "python3"
  },
  "language_info": {
   "codemirror_mode": {
    "name": "ipython",
    "version": 3
   },
   "file_extension": ".py",
   "mimetype": "text/x-python",
   "name": "python",
   "nbconvert_exporter": "python",
   "pygments_lexer": "ipython3",
   "version": "3.11.7"
  }
 },
 "nbformat": 4,
 "nbformat_minor": 5
}
